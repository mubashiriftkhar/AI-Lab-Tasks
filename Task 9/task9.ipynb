{
 "cells": [
  {
   "cell_type": "code",
   "execution_count": 3,
   "metadata": {},
   "outputs": [],
   "source": [
    "import pandas as pd"
   ]
  },
  {
   "cell_type": "markdown",
   "metadata": {},
   "source": [
    "Data Loading/Reading"
   ]
  },
  {
   "cell_type": "code",
   "execution_count": 6,
   "metadata": {},
   "outputs": [
    {
     "data": {
      "text/html": [
       "<div>\n",
       "<style scoped>\n",
       "    .dataframe tbody tr th:only-of-type {\n",
       "        vertical-align: middle;\n",
       "    }\n",
       "\n",
       "    .dataframe tbody tr th {\n",
       "        vertical-align: top;\n",
       "    }\n",
       "\n",
       "    .dataframe thead th {\n",
       "        text-align: right;\n",
       "    }\n",
       "</style>\n",
       "<table border=\"1\" class=\"dataframe\">\n",
       "  <thead>\n",
       "    <tr style=\"text-align: right;\">\n",
       "      <th></th>\n",
       "      <th>Datetime</th>\n",
       "      <th>Temperature</th>\n",
       "      <th>Humidity</th>\n",
       "      <th>WindSpeed</th>\n",
       "      <th>GeneralDiffuseFlows</th>\n",
       "      <th>DiffuseFlows</th>\n",
       "      <th>PowerConsumption_Zone1</th>\n",
       "      <th>PowerConsumption_Zone2</th>\n",
       "      <th>PowerConsumption_Zone3</th>\n",
       "    </tr>\n",
       "  </thead>\n",
       "  <tbody>\n",
       "    <tr>\n",
       "      <th>0</th>\n",
       "      <td>1/1/2017 0:00</td>\n",
       "      <td>6.559</td>\n",
       "      <td>73.8</td>\n",
       "      <td>0.083</td>\n",
       "      <td>0.051</td>\n",
       "      <td>0.119</td>\n",
       "      <td>34055.69620</td>\n",
       "      <td>16128.87538</td>\n",
       "      <td>20240.96386</td>\n",
       "    </tr>\n",
       "    <tr>\n",
       "      <th>1</th>\n",
       "      <td>1/1/2017 0:10</td>\n",
       "      <td>6.414</td>\n",
       "      <td>74.5</td>\n",
       "      <td>0.083</td>\n",
       "      <td>0.070</td>\n",
       "      <td>0.085</td>\n",
       "      <td>29814.68354</td>\n",
       "      <td>19375.07599</td>\n",
       "      <td>20131.08434</td>\n",
       "    </tr>\n",
       "    <tr>\n",
       "      <th>2</th>\n",
       "      <td>1/1/2017 0:20</td>\n",
       "      <td>6.313</td>\n",
       "      <td>74.5</td>\n",
       "      <td>0.080</td>\n",
       "      <td>0.062</td>\n",
       "      <td>0.100</td>\n",
       "      <td>29128.10127</td>\n",
       "      <td>19006.68693</td>\n",
       "      <td>19668.43373</td>\n",
       "    </tr>\n",
       "    <tr>\n",
       "      <th>3</th>\n",
       "      <td>1/1/2017 0:30</td>\n",
       "      <td>6.121</td>\n",
       "      <td>75.0</td>\n",
       "      <td>0.083</td>\n",
       "      <td>0.091</td>\n",
       "      <td>0.096</td>\n",
       "      <td>28228.86076</td>\n",
       "      <td>18361.09422</td>\n",
       "      <td>18899.27711</td>\n",
       "    </tr>\n",
       "    <tr>\n",
       "      <th>4</th>\n",
       "      <td>1/1/2017 0:40</td>\n",
       "      <td>5.921</td>\n",
       "      <td>75.7</td>\n",
       "      <td>0.081</td>\n",
       "      <td>0.048</td>\n",
       "      <td>0.085</td>\n",
       "      <td>27335.69620</td>\n",
       "      <td>17872.34043</td>\n",
       "      <td>18442.40964</td>\n",
       "    </tr>\n",
       "    <tr>\n",
       "      <th>5</th>\n",
       "      <td>1/1/2017 0:50</td>\n",
       "      <td>5.853</td>\n",
       "      <td>76.9</td>\n",
       "      <td>0.081</td>\n",
       "      <td>0.059</td>\n",
       "      <td>0.108</td>\n",
       "      <td>26624.81013</td>\n",
       "      <td>17416.41337</td>\n",
       "      <td>18130.12048</td>\n",
       "    </tr>\n",
       "    <tr>\n",
       "      <th>6</th>\n",
       "      <td>1/1/2017 1:00</td>\n",
       "      <td>5.641</td>\n",
       "      <td>77.7</td>\n",
       "      <td>0.080</td>\n",
       "      <td>0.048</td>\n",
       "      <td>0.096</td>\n",
       "      <td>25998.98734</td>\n",
       "      <td>16993.31307</td>\n",
       "      <td>17945.06024</td>\n",
       "    </tr>\n",
       "    <tr>\n",
       "      <th>7</th>\n",
       "      <td>1/1/2017 1:10</td>\n",
       "      <td>5.496</td>\n",
       "      <td>78.2</td>\n",
       "      <td>0.085</td>\n",
       "      <td>0.055</td>\n",
       "      <td>0.093</td>\n",
       "      <td>25446.07595</td>\n",
       "      <td>16661.39818</td>\n",
       "      <td>17459.27711</td>\n",
       "    </tr>\n",
       "    <tr>\n",
       "      <th>8</th>\n",
       "      <td>1/1/2017 1:20</td>\n",
       "      <td>5.678</td>\n",
       "      <td>78.1</td>\n",
       "      <td>0.081</td>\n",
       "      <td>0.066</td>\n",
       "      <td>0.141</td>\n",
       "      <td>24777.72152</td>\n",
       "      <td>16227.35562</td>\n",
       "      <td>17025.54217</td>\n",
       "    </tr>\n",
       "    <tr>\n",
       "      <th>9</th>\n",
       "      <td>1/1/2017 1:30</td>\n",
       "      <td>5.491</td>\n",
       "      <td>77.3</td>\n",
       "      <td>0.082</td>\n",
       "      <td>0.062</td>\n",
       "      <td>0.111</td>\n",
       "      <td>24279.49367</td>\n",
       "      <td>15939.20973</td>\n",
       "      <td>16794.21687</td>\n",
       "    </tr>\n",
       "    <tr>\n",
       "      <th>10</th>\n",
       "      <td>1/1/2017 1:40</td>\n",
       "      <td>5.516</td>\n",
       "      <td>77.5</td>\n",
       "      <td>0.081</td>\n",
       "      <td>0.051</td>\n",
       "      <td>0.108</td>\n",
       "      <td>23896.70886</td>\n",
       "      <td>15435.86626</td>\n",
       "      <td>16638.07229</td>\n",
       "    </tr>\n",
       "  </tbody>\n",
       "</table>\n",
       "</div>"
      ],
      "text/plain": [
       "         Datetime  Temperature  Humidity  WindSpeed  GeneralDiffuseFlows  \\\n",
       "0   1/1/2017 0:00        6.559      73.8      0.083                0.051   \n",
       "1   1/1/2017 0:10        6.414      74.5      0.083                0.070   \n",
       "2   1/1/2017 0:20        6.313      74.5      0.080                0.062   \n",
       "3   1/1/2017 0:30        6.121      75.0      0.083                0.091   \n",
       "4   1/1/2017 0:40        5.921      75.7      0.081                0.048   \n",
       "5   1/1/2017 0:50        5.853      76.9      0.081                0.059   \n",
       "6   1/1/2017 1:00        5.641      77.7      0.080                0.048   \n",
       "7   1/1/2017 1:10        5.496      78.2      0.085                0.055   \n",
       "8   1/1/2017 1:20        5.678      78.1      0.081                0.066   \n",
       "9   1/1/2017 1:30        5.491      77.3      0.082                0.062   \n",
       "10  1/1/2017 1:40        5.516      77.5      0.081                0.051   \n",
       "\n",
       "    DiffuseFlows  PowerConsumption_Zone1  PowerConsumption_Zone2  \\\n",
       "0          0.119             34055.69620             16128.87538   \n",
       "1          0.085             29814.68354             19375.07599   \n",
       "2          0.100             29128.10127             19006.68693   \n",
       "3          0.096             28228.86076             18361.09422   \n",
       "4          0.085             27335.69620             17872.34043   \n",
       "5          0.108             26624.81013             17416.41337   \n",
       "6          0.096             25998.98734             16993.31307   \n",
       "7          0.093             25446.07595             16661.39818   \n",
       "8          0.141             24777.72152             16227.35562   \n",
       "9          0.111             24279.49367             15939.20973   \n",
       "10         0.108             23896.70886             15435.86626   \n",
       "\n",
       "    PowerConsumption_Zone3  \n",
       "0              20240.96386  \n",
       "1              20131.08434  \n",
       "2              19668.43373  \n",
       "3              18899.27711  \n",
       "4              18442.40964  \n",
       "5              18130.12048  \n",
       "6              17945.06024  \n",
       "7              17459.27711  \n",
       "8              17025.54217  \n",
       "9              16794.21687  \n",
       "10             16638.07229  "
      ]
     },
     "execution_count": 6,
     "metadata": {},
     "output_type": "execute_result"
    }
   ],
   "source": [
    "data=pd.read_csv('powerconsumption.csv')\n",
    "df=pd.DataFrame(data)\n",
    "df.head(10+1)"
   ]
  },
  {
   "cell_type": "markdown",
   "metadata": {},
   "source": [
    "Data Exploration"
   ]
  },
  {
   "cell_type": "code",
   "execution_count": 8,
   "metadata": {},
   "outputs": [
    {
     "name": "stdout",
     "output_type": "stream",
     "text": [
      "Number of rows are 52416 \n",
      "Number of Colomns are 9\n"
     ]
    }
   ],
   "source": [
    "print(f\"Number of rows are {df.shape[0]} \\nNumber of Colomns are {df.shape[1]}\")"
   ]
  },
  {
   "cell_type": "code",
   "execution_count": 10,
   "metadata": {},
   "outputs": [
    {
     "name": "stdout",
     "output_type": "stream",
     "text": [
      "<class 'pandas.core.frame.DataFrame'>\n",
      "RangeIndex: 52416 entries, 0 to 52415\n",
      "Data columns (total 9 columns):\n",
      " #   Column                  Non-Null Count  Dtype  \n",
      "---  ------                  --------------  -----  \n",
      " 0   Datetime                52416 non-null  object \n",
      " 1   Temperature             52416 non-null  float64\n",
      " 2   Humidity                52416 non-null  float64\n",
      " 3   WindSpeed               52416 non-null  float64\n",
      " 4   GeneralDiffuseFlows     52416 non-null  float64\n",
      " 5   DiffuseFlows            52416 non-null  float64\n",
      " 6   PowerConsumption_Zone1  52416 non-null  float64\n",
      " 7   PowerConsumption_Zone2  52416 non-null  float64\n",
      " 8   PowerConsumption_Zone3  52416 non-null  float64\n",
      "dtypes: float64(8), object(1)\n",
      "memory usage: 3.6+ MB\n"
     ]
    }
   ],
   "source": [
    "df.info()"
   ]
  },
  {
   "cell_type": "code",
   "execution_count": 12,
   "metadata": {},
   "outputs": [
    {
     "data": {
      "text/plain": [
       "Datetime                  0\n",
       "Temperature               0\n",
       "Humidity                  0\n",
       "WindSpeed                 0\n",
       "GeneralDiffuseFlows       0\n",
       "DiffuseFlows              0\n",
       "PowerConsumption_Zone1    0\n",
       "PowerConsumption_Zone2    0\n",
       "PowerConsumption_Zone3    0\n",
       "dtype: int64"
      ]
     },
     "execution_count": 12,
     "metadata": {},
     "output_type": "execute_result"
    }
   ],
   "source": [
    "df.isnull().sum()"
   ]
  },
  {
   "cell_type": "code",
   "execution_count": 13,
   "metadata": {},
   "outputs": [
    {
     "data": {
      "text/plain": [
       "Datetime                  52416\n",
       "Temperature               52416\n",
       "Humidity                  52416\n",
       "WindSpeed                 52416\n",
       "GeneralDiffuseFlows       52416\n",
       "DiffuseFlows              52416\n",
       "PowerConsumption_Zone1    52416\n",
       "PowerConsumption_Zone2    52416\n",
       "PowerConsumption_Zone3    52416\n",
       "dtype: int64"
      ]
     },
     "execution_count": 13,
     "metadata": {},
     "output_type": "execute_result"
    }
   ],
   "source": [
    "df.count()"
   ]
  },
  {
   "cell_type": "code",
   "execution_count": 14,
   "metadata": {},
   "outputs": [
    {
     "data": {
      "text/plain": [
       "Datetime                  52416\n",
       "Temperature                3437\n",
       "Humidity                   4443\n",
       "WindSpeed                   548\n",
       "GeneralDiffuseFlows       10504\n",
       "DiffuseFlows              10449\n",
       "PowerConsumption_Zone1    27709\n",
       "PowerConsumption_Zone2    29621\n",
       "PowerConsumption_Zone3    22838\n",
       "dtype: int64"
      ]
     },
     "execution_count": 14,
     "metadata": {},
     "output_type": "execute_result"
    }
   ],
   "source": [
    "df.nunique()"
   ]
  },
  {
   "cell_type": "code",
   "execution_count": 15,
   "metadata": {},
   "outputs": [
    {
     "data": {
      "text/plain": [
       "array([ 0.119,  0.085,  0.1  , ..., 16.39 , 10.12 ,  2.618])"
      ]
     },
     "execution_count": 15,
     "metadata": {},
     "output_type": "execute_result"
    }
   ],
   "source": [
    "df['DiffuseFlows'].unique()"
   ]
  },
  {
   "cell_type": "code",
   "execution_count": 17,
   "metadata": {},
   "outputs": [
    {
     "name": "stdout",
     "output_type": "stream",
     "text": [
      "All colomns are \n",
      "Datetime\n",
      "Temperature\n",
      "Humidity\n",
      "WindSpeed\n",
      "GeneralDiffuseFlows\n",
      "DiffuseFlows\n",
      "PowerConsumption_Zone1\n",
      "PowerConsumption_Zone2\n",
      "PowerConsumption_Zone3\n"
     ]
    }
   ],
   "source": [
    "print(\"All colomns are \")\n",
    "for i in df.columns:\n",
    "    print(i)"
   ]
  },
  {
   "cell_type": "code",
   "execution_count": 18,
   "metadata": {},
   "outputs": [
    {
     "data": {
      "text/html": [
       "<div>\n",
       "<style scoped>\n",
       "    .dataframe tbody tr th:only-of-type {\n",
       "        vertical-align: middle;\n",
       "    }\n",
       "\n",
       "    .dataframe tbody tr th {\n",
       "        vertical-align: top;\n",
       "    }\n",
       "\n",
       "    .dataframe thead th {\n",
       "        text-align: right;\n",
       "    }\n",
       "</style>\n",
       "<table border=\"1\" class=\"dataframe\">\n",
       "  <thead>\n",
       "    <tr style=\"text-align: right;\">\n",
       "      <th></th>\n",
       "      <th>Temperature</th>\n",
       "      <th>Humidity</th>\n",
       "      <th>WindSpeed</th>\n",
       "      <th>GeneralDiffuseFlows</th>\n",
       "      <th>DiffuseFlows</th>\n",
       "      <th>PowerConsumption_Zone1</th>\n",
       "      <th>PowerConsumption_Zone2</th>\n",
       "      <th>PowerConsumption_Zone3</th>\n",
       "    </tr>\n",
       "  </thead>\n",
       "  <tbody>\n",
       "    <tr>\n",
       "      <th>count</th>\n",
       "      <td>52416.000000</td>\n",
       "      <td>52416.000000</td>\n",
       "      <td>52416.000000</td>\n",
       "      <td>52416.000000</td>\n",
       "      <td>52416.000000</td>\n",
       "      <td>52416.000000</td>\n",
       "      <td>52416.000000</td>\n",
       "      <td>52416.000000</td>\n",
       "    </tr>\n",
       "    <tr>\n",
       "      <th>mean</th>\n",
       "      <td>18.810024</td>\n",
       "      <td>68.259518</td>\n",
       "      <td>1.959489</td>\n",
       "      <td>182.696614</td>\n",
       "      <td>75.028022</td>\n",
       "      <td>32344.970564</td>\n",
       "      <td>21042.509082</td>\n",
       "      <td>17835.406218</td>\n",
       "    </tr>\n",
       "    <tr>\n",
       "      <th>std</th>\n",
       "      <td>5.815476</td>\n",
       "      <td>15.551177</td>\n",
       "      <td>2.348862</td>\n",
       "      <td>264.400960</td>\n",
       "      <td>124.210949</td>\n",
       "      <td>7130.562564</td>\n",
       "      <td>5201.465892</td>\n",
       "      <td>6622.165099</td>\n",
       "    </tr>\n",
       "    <tr>\n",
       "      <th>min</th>\n",
       "      <td>3.247000</td>\n",
       "      <td>11.340000</td>\n",
       "      <td>0.050000</td>\n",
       "      <td>0.004000</td>\n",
       "      <td>0.011000</td>\n",
       "      <td>13895.696200</td>\n",
       "      <td>8560.081466</td>\n",
       "      <td>5935.174070</td>\n",
       "    </tr>\n",
       "    <tr>\n",
       "      <th>25%</th>\n",
       "      <td>14.410000</td>\n",
       "      <td>58.310000</td>\n",
       "      <td>0.078000</td>\n",
       "      <td>0.062000</td>\n",
       "      <td>0.122000</td>\n",
       "      <td>26310.668692</td>\n",
       "      <td>16980.766032</td>\n",
       "      <td>13129.326630</td>\n",
       "    </tr>\n",
       "    <tr>\n",
       "      <th>50%</th>\n",
       "      <td>18.780000</td>\n",
       "      <td>69.860000</td>\n",
       "      <td>0.086000</td>\n",
       "      <td>5.035500</td>\n",
       "      <td>4.456000</td>\n",
       "      <td>32265.920340</td>\n",
       "      <td>20823.168405</td>\n",
       "      <td>16415.117470</td>\n",
       "    </tr>\n",
       "    <tr>\n",
       "      <th>75%</th>\n",
       "      <td>22.890000</td>\n",
       "      <td>81.400000</td>\n",
       "      <td>4.915000</td>\n",
       "      <td>319.600000</td>\n",
       "      <td>101.000000</td>\n",
       "      <td>37309.018185</td>\n",
       "      <td>24713.717520</td>\n",
       "      <td>21624.100420</td>\n",
       "    </tr>\n",
       "    <tr>\n",
       "      <th>max</th>\n",
       "      <td>40.010000</td>\n",
       "      <td>94.800000</td>\n",
       "      <td>6.483000</td>\n",
       "      <td>1163.000000</td>\n",
       "      <td>936.000000</td>\n",
       "      <td>52204.395120</td>\n",
       "      <td>37408.860760</td>\n",
       "      <td>47598.326360</td>\n",
       "    </tr>\n",
       "  </tbody>\n",
       "</table>\n",
       "</div>"
      ],
      "text/plain": [
       "        Temperature      Humidity     WindSpeed  GeneralDiffuseFlows  \\\n",
       "count  52416.000000  52416.000000  52416.000000         52416.000000   \n",
       "mean      18.810024     68.259518      1.959489           182.696614   \n",
       "std        5.815476     15.551177      2.348862           264.400960   \n",
       "min        3.247000     11.340000      0.050000             0.004000   \n",
       "25%       14.410000     58.310000      0.078000             0.062000   \n",
       "50%       18.780000     69.860000      0.086000             5.035500   \n",
       "75%       22.890000     81.400000      4.915000           319.600000   \n",
       "max       40.010000     94.800000      6.483000          1163.000000   \n",
       "\n",
       "       DiffuseFlows  PowerConsumption_Zone1  PowerConsumption_Zone2  \\\n",
       "count  52416.000000            52416.000000            52416.000000   \n",
       "mean      75.028022            32344.970564            21042.509082   \n",
       "std      124.210949             7130.562564             5201.465892   \n",
       "min        0.011000            13895.696200             8560.081466   \n",
       "25%        0.122000            26310.668692            16980.766032   \n",
       "50%        4.456000            32265.920340            20823.168405   \n",
       "75%      101.000000            37309.018185            24713.717520   \n",
       "max      936.000000            52204.395120            37408.860760   \n",
       "\n",
       "       PowerConsumption_Zone3  \n",
       "count            52416.000000  \n",
       "mean             17835.406218  \n",
       "std               6622.165099  \n",
       "min               5935.174070  \n",
       "25%              13129.326630  \n",
       "50%              16415.117470  \n",
       "75%              21624.100420  \n",
       "max              47598.326360  "
      ]
     },
     "execution_count": 18,
     "metadata": {},
     "output_type": "execute_result"
    }
   ],
   "source": [
    "df.describe()"
   ]
  },
  {
   "cell_type": "code",
   "execution_count": null,
   "metadata": {},
   "outputs": [],
   "source": []
  }
 ],
 "metadata": {
  "kernelspec": {
   "display_name": "Python 3",
   "language": "python",
   "name": "python3"
  },
  "language_info": {
   "codemirror_mode": {
    "name": "ipython",
    "version": 3
   },
   "file_extension": ".py",
   "mimetype": "text/x-python",
   "name": "python",
   "nbconvert_exporter": "python",
   "pygments_lexer": "ipython3",
   "version": "3.12.6"
  }
 },
 "nbformat": 4,
 "nbformat_minor": 2
}
